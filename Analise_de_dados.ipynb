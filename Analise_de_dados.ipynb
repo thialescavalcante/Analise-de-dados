{
  "nbformat": 4,
  "nbformat_minor": 0,
  "metadata": {
    "colab": {
      "provenance": [],
      "toc_visible": true,
      "mount_file_id": "1zUPQfNrnGAOUG0isY_rLN52U_2emjlcV",
      "authorship_tag": "ABX9TyMT81+ySUMBAJdJUunt2lWi",
      "include_colab_link": true
    },
    "kernelspec": {
      "name": "python3",
      "display_name": "Python 3"
    },
    "language_info": {
      "name": "python"
    }
  },
  "cells": [
    {
      "cell_type": "markdown",
      "metadata": {
        "id": "view-in-github",
        "colab_type": "text"
      },
      "source": [
        "<a href=\"https://colab.research.google.com/github/thialescavalcante/Analise-de-dados/blob/main/Analise_de_dados.ipynb\" target=\"_parent\"><img src=\"https://colab.research.google.com/assets/colab-badge.svg\" alt=\"Open In Colab\"/></a>"
      ]
    },
    {
      "cell_type": "markdown",
      "source": [
        "#\tEtapa 1: Preparação do Ambiente e Carregamento de Dados"
      ],
      "metadata": {
        "id": "PDRxfxkuJDwB"
      }
    },
    {
      "cell_type": "code",
      "execution_count": 2,
      "metadata": {
        "colab": {
          "base_uri": "https://localhost:8080/"
        },
        "id": "O2tChNiPIag8",
        "outputId": "d9611884-62e3-42a4-8318-97b177040440"
      },
      "outputs": [
        {
          "output_type": "stream",
          "name": "stdout",
          "text": [
            "Bibliotecas importadas com sucesso!\n"
          ]
        }
      ],
      "source": [
        "# 1. Importe as bibliotecas necessárias no início do seu script ou notebook.\n",
        "\n",
        "import pandas as pd\n",
        "import matplotlib.pyplot as plt\n",
        "import seaborn as sns\n",
        "\n",
        "print(\"Bibliotecas importadas com sucesso!\")"
      ]
    },
    {
      "cell_type": "code",
      "source": [
        "# 2. Carregar Dados\n",
        "\n",
        "# Caminho onde está o arquivo com os dados\n",
        "\n",
        "caminho_arquivo = \"/content/drive/MyDrive/Colab Notebooks/12 RP07 Análise de Dados com Python.xlsx\"\n",
        "\n",
        "try:\n",
        "    df = pd.read_excel(caminho_arquivo)\n",
        "    print(\"\\nArquivo (caminho_arquivo.split('/')[-1]) carregado con sucesso en un DataFrame!\")\n",
        "\n",
        "    # Exiba as primeiras linhas do DataFrame (head()) para uma primeira inspeção.\n",
        "    print(\"\\nPrimeiras 10 linhas do DataFrame:\")\n",
        "    print(df.head(10))\n",
        "\n",
        "    # Exiba suas informações gerais (.info()) para una primeira inspeção.\n",
        "    print(\"\\nInformações gerais do DataFrame:\")\n",
        "    df.info()\n",
        "\n",
        "except FileNotFoundError:\n",
        "    print(\"\\nERRO: O arquivo não foi encontrado no caminho especificado: (caminho_arquivo)\")\n",
        "    print(\"Por favor, verifique se o caminho e o nome do arquivo estão corretos e se você montou seu Google Drive no colab (se aplicável).\")\n",
        "except Exception as e:\n",
        "    print(f\"\\nOcorreu un erro ao carregar o arquivo: (e)\")"
      ],
      "metadata": {
        "colab": {
          "base_uri": "https://localhost:8080/"
        },
        "id": "EQTqoBLLK9jo",
        "outputId": "21dd16cf-1e7c-4882-aa1b-7e858f7a8e62"
      },
      "execution_count": 5,
      "outputs": [
        {
          "output_type": "stream",
          "name": "stdout",
          "text": [
            "\n",
            "Arquivo (caminho_arquivo.split('/')[-1]) carregado con sucesso en un DataFrame!\n",
            "\n",
            "Primeiras 10 linhas do DataFrame:\n",
            "         ID_Pedido Data_Pedido ID_Cliente     Segmento           Regiao  \\\n",
            "0   CA-2012-124891  2012-07-31   RH-19495   Consumidor         New York   \n",
            "1    IN-2013-77878  2013-02-05   JR-16210  Corporativo  New South Wales   \n",
            "2    IN-2013-71249  2013-10-17   CR-12730   Consumidor       Queensland   \n",
            "3  ES-2013-1579342  2013-01-28   KM-16375  Home Office           Berlin   \n",
            "4     SG-2013-4320  2013-11-05    RH-9495   Consumidor            Dakar   \n",
            "5    IN-2013-42360  2013-06-28   JM-15655  Corporativo  New South Wales   \n",
            "6    IN-2011-81826  2011-11-07   TS-21340   Consumidor       Wellington   \n",
            "7    IN-2012-86369  2012-04-14   MB-18085   Consumidor          Waikato   \n",
            "8   CA-2014-135909  2014-10-14   JW-15220  Corporativo       California   \n",
            "9   CA-2012-116638  2012-01-28   JH-15985   Consumidor   North Carolina   \n",
            "\n",
            "            Pais        Product ID    Categoria SubCategoria  Total_Vendas  \\\n",
            "0  United States   TEC-AC-10003033   Tecnologia  Accessories      2309.650   \n",
            "1      Australia   FUR-CH-10003950       Moveis       Chairs      3709.395   \n",
            "2      Australia   TEC-PH-10004664   Tecnologia       Phones      5175.171   \n",
            "3        Germany   TEC-PH-10004583   Tecnologia       Phones      2892.510   \n",
            "4        Senegal  TEC-SHA-10000501   Tecnologia      Copiers      2832.960   \n",
            "5      Australia   TEC-PH-10000030   Tecnologia       Phones      2862.675   \n",
            "6    New Zealand   FUR-CH-10004050       Moveis       Chairs      1822.080   \n",
            "7    New Zealand   FUR-TA-10002958       Moveis       Tables      5244.840   \n",
            "8  United States   OFF-BI-10003527  Suprimentos      Binders      5083.960   \n",
            "9  United States   FUR-TA-10000198       Moveis       Tables      4297.644   \n",
            "\n",
            "   Quantidade  Desconto      Lucro Prioridade  \n",
            "0           7       0.0   762.1845    Critico  \n",
            "1           9       0.1  -288.7650    Critico  \n",
            "2           9       0.1   919.9710      Medio  \n",
            "3           5       0.1   -96.5400      Medio  \n",
            "4           8       0.0   311.5200    Critico  \n",
            "5           5       0.1   763.2750    Critico  \n",
            "6           4       0.0   564.8400    Critico  \n",
            "7           6       0.0   996.4800       Alto  \n",
            "8           5       0.2  1906.4850      Baixo  \n",
            "9          13       0.4 -1862.3124    Critico  \n",
            "\n",
            "Informações gerais do DataFrame:\n",
            "<class 'pandas.core.frame.DataFrame'>\n",
            "RangeIndex: 51290 entries, 0 to 51289\n",
            "Data columns (total 14 columns):\n",
            " #   Column        Non-Null Count  Dtype         \n",
            "---  ------        --------------  -----         \n",
            " 0   ID_Pedido     51290 non-null  object        \n",
            " 1   Data_Pedido   51290 non-null  datetime64[ns]\n",
            " 2   ID_Cliente    51290 non-null  object        \n",
            " 3   Segmento      51290 non-null  object        \n",
            " 4   Regiao        51290 non-null  object        \n",
            " 5   Pais          51290 non-null  object        \n",
            " 6   Product ID    51290 non-null  object        \n",
            " 7   Categoria     51290 non-null  object        \n",
            " 8   SubCategoria  51290 non-null  object        \n",
            " 9   Total_Vendas  51290 non-null  float64       \n",
            " 10  Quantidade    51290 non-null  int64         \n",
            " 11  Desconto      51290 non-null  float64       \n",
            " 12  Lucro         51290 non-null  float64       \n",
            " 13  Prioridade    51290 non-null  object        \n",
            "dtypes: datetime64[ns](1), float64(3), int64(1), object(9)\n",
            "memory usage: 5.5+ MB\n"
          ]
        }
      ]
    },
    {
      "cell_type": "markdown",
      "source": [
        "# Etapa 2: Limpeza e Pré-processamento de Dados\n",
        "# Objetivo: Tratar inconsistências e preparar os dados para análise."
      ],
      "metadata": {
        "id": "2tzbMu-2L5Nu"
      }
    },
    {
      "cell_type": "code",
      "source": [
        "print(\"\\n\" + '-'*50)\n",
        "print(\"Iniciando Etapa 2: Limpeza e Pré-processamento de Dados\")\n",
        "print(\"=\"*50)\n",
        "\n",
        "# Antes de começar, vamos fazer una cópla do Datafrase original para não alterar o DF da Etapa 1\n",
        "df_limpo = df.copy()\n",
        "print(\"\\nCópia do DataFrame original criada para limpeza (df_limpo).\")\n",
        "\n",
        "\n",
        "# 1. Renomear Colunas (opcional):\n",
        "# Padronize nomes de colunas para facilitar o acesso (ex: remover espaços, caracteres especials).\n",
        "# Vamos inspecionar os nomes atuais para decidir o que fazer.\n",
        "print(\"\\nNomes originais das colunas:\")\n",
        "print(df_limpo.columns.tolist())\n",
        "\n",
        "# Exemplo de renomeação: converter para minúsculas e substituir espaços por underscores.\n",
        "# Você pode ajustar esta lista conforme a necessidade real dos seus nomes de coluna.\n",
        "novos_nomes_colunas = {col: col.replace(' ','_').replace('.','').lower() for col in df_limpo.columns}\n",
        "df_limpo.rename (columns=novos_nomes_colunas, inplace = True)\n",
        "\n",
        "print(\"\\nNones das colunas após renomeação (se houver):\")\n",
        "print(df_limpo.columns.tolist())"
      ],
      "metadata": {
        "colab": {
          "base_uri": "https://localhost:8080/"
        },
        "id": "MdEEXxxOLz1D",
        "outputId": "9dd4600b-6d47-4e82-92e4-d5770168a627"
      },
      "execution_count": 6,
      "outputs": [
        {
          "output_type": "stream",
          "name": "stdout",
          "text": [
            "\n",
            "--------------------------------------------------\n",
            "Iniciando Etapa 2: Limpeza e Pré-processamento de Dados\n",
            "==================================================\n",
            "\n",
            "Cópia do DataFrame original criada para limpeza (df_limpo).\n",
            "\n",
            "Nomes originais das colunas:\n",
            "['ID_Pedido', 'Data_Pedido', 'ID_Cliente', 'Segmento', 'Regiao', 'Pais', 'Product ID', 'Categoria', 'SubCategoria', 'Total_Vendas', 'Quantidade', 'Desconto', 'Lucro', 'Prioridade']\n",
            "\n",
            "Nones das colunas após renomeação (se houver):\n",
            "['id_pedido', 'data_pedido', 'id_cliente', 'segmento', 'regiao', 'pais', 'product_id', 'categoria', 'subcategoria', 'total_vendas', 'quantidade', 'desconto', 'lucro', 'prioridade']\n"
          ]
        }
      ]
    },
    {
      "cell_type": "code",
      "source": [
        "# 2. Verificar Valores Ausentes:\n",
        "print(\"\\nVerificando valores ausentes no DataFrame:\")\n",
        "valores_nulos = df_limpo.isnull().sum()\n",
        "print (valores_nulos [valores_nulos > 0]) # Exibe apenas colunas com valores nulos\n",
        "\n",
        "for coluna in valores_nulos [valores_nulos > 0].index:\n",
        "     if df_limpo[coluna].dtype == 'object': # Se for uma coluna de texto/categórica\n",
        "         df_limpo [coluna].fillna('Desconhecido', inplace=True)\n",
        "         print(f\"Preenchido valores nulos na coluna '{coluna}' com 'Desconhecido'.\")\n",
        "\n",
        "     elif pd.api.types.is_numeric_dtype(df_limpo [coluna]):\n",
        "         df_limpo [coluna].fillna(0, inplace=True) # Preenchedo com valor 0\n",
        "         print(f\"Preenchido valores nulos na coluna '{coluna}' com 0.\")\n",
        "\n",
        "     else:\n",
        "        print(f\"Coluna '{coluna}' possui nulos, mas não foi tratada automaticamente (necessita análise específica).\")\n",
        "\n",
        "print(\"\\nValores ausentes após tratamento (se houver):\")\n",
        "print(df_limpo.isnull().sum() [df_limpo.isnull().sum() > 0])"
      ],
      "metadata": {
        "colab": {
          "base_uri": "https://localhost:8080/"
        },
        "id": "v8axtU3_MBTE",
        "outputId": "adfde583-bb29-4d9e-e03e-8c3b8ef49b59"
      },
      "execution_count": 7,
      "outputs": [
        {
          "output_type": "stream",
          "name": "stdout",
          "text": [
            "\n",
            "Verificando valores ausentes no DataFrame:\n",
            "Series([], dtype: int64)\n",
            "\n",
            "Valores ausentes após tratamento (se houver):\n",
            "Series([], dtype: int64)\n"
          ]
        }
      ]
    },
    {
      "cell_type": "code",
      "source": [
        "# 3. Converter Tipos de Dados:\n",
        "print(\"\\nverificando e convertendo tipos de dados:\")\n",
        "print(\"Tipos de dados antes da conversão:\")\n",
        "print(df_limpo.info())\n",
        "\n",
        "# 3.1. Converter colunas numéricas (ex: total_vendas, quantidade, desconto, lucro)\n",
        "colunas_numericas_para_converter = ['total_vendas', 'quantidade', 'desconto', 'lucro']\n",
        "for coluna in colunas_numericas_para_converter:\n",
        "    if coluna in df_limpo.columns:\n",
        "        # Ponto de Atenção: A conversão de números pode exigir a substituição de virgulas por pontos\n",
        "\n",
        "        # A coluna Desconto pode ter valores como 's' ou vazios.\n",
        "        if df_limpo[coluna].dtype == 'object': # Se a coluna for de objeto (string)\n",
        "          #Substitui virgulas por pontos e tenta converter para numérico.\n",
        "          #Coerces erros (como 's' ou vazios) para NaN, que pode ser tratado depois.\n",
        "          df_limpo[coluna] = df_limpo[coluna].astype(str).str.replace(',','', regex=False)\n",
        "          df_limpo[coluna] = pd.to_numeric(df_limpo(coluna), errors='coerce')\n",
        "          # Após a conversão, preenche NaNs criados por 'coerce' com 0 (ou outra estratégia)\n",
        "          df_limpo [coluna].fillna(0, inplace=True)\n",
        "          print(f\"Coluna (coluna) convertida para numérico (float) e NaN/erros preenchidos com 0.\")\n",
        "        elif pd.api.types.is_numeric_dtype(df_limpo[coluna]) and df_limpo [coluna].dtype != 'float64':\n",
        "          # Se já é numérico mas não float (ex: int), assegura que é float para consistência\n",
        "          df_limpo[coluna] = df_limpo [coluna].astype (float)\n",
        "          print (f\"Coluna (coluna) convertida para float.\")\n",
        "    else:\n",
        "        print(f\"Aviso: Coluna (coluna) não encontrada no DataFrame para conversão numérica.\")\n",
        "\n",
        "# 3.2. Converter a coluna data pedido para o tipo datetime.\n",
        "coluna_data = 'data_pedido' # Adapte conforme o nome real da sua coluna de data\n",
        "if coluna_data in df_limpo.columns:\n",
        "    df_limpo[coluna_data] = pd.to_datetime(df_limpo[coluna_data], errors='coerce')\n",
        "    #Tratar possíveis NaNs criados por datas inválidas\n",
        "    if df_limpo[coluna_data].isnull().sum() > 0:\n",
        "      print(f\"Atenção: [df_limpo[coluna_data].isnull().sum()) valores inválidos na coluna (coluna_data) foram convertidos para Nat (Not a Time).\")\n",
        "      # Você pode remover essas linhas ou preenchê-las com uma data padrão, dependendo da sua análise.\n",
        "      # df_limpo.dropna(subset=[coluna_data], inplace=True) # Exemplo: remover linhas com datas inválidas\n",
        "    print(f\"Coluna ' {coluna_data}' convertida para tipo datetime.\")\n",
        "else:\n",
        "    print(f\"Aviso: Coluna (coluna data) não encontrada no DataFrame para conversão de data.\")\n",
        "\n",
        "print(\"\\nTipos de dados após a conversão:\")\n",
        "print(df_limpo.info())"
      ],
      "metadata": {
        "colab": {
          "base_uri": "https://localhost:8080/"
        },
        "id": "A_4jJ02MMFrH",
        "outputId": "a5282ace-5487-4b0c-a169-7f2d085bb34b"
      },
      "execution_count": 8,
      "outputs": [
        {
          "output_type": "stream",
          "name": "stdout",
          "text": [
            "\n",
            "verificando e convertendo tipos de dados:\n",
            "Tipos de dados antes da conversão:\n",
            "<class 'pandas.core.frame.DataFrame'>\n",
            "RangeIndex: 51290 entries, 0 to 51289\n",
            "Data columns (total 14 columns):\n",
            " #   Column        Non-Null Count  Dtype         \n",
            "---  ------        --------------  -----         \n",
            " 0   id_pedido     51290 non-null  object        \n",
            " 1   data_pedido   51290 non-null  datetime64[ns]\n",
            " 2   id_cliente    51290 non-null  object        \n",
            " 3   segmento      51290 non-null  object        \n",
            " 4   regiao        51290 non-null  object        \n",
            " 5   pais          51290 non-null  object        \n",
            " 6   product_id    51290 non-null  object        \n",
            " 7   categoria     51290 non-null  object        \n",
            " 8   subcategoria  51290 non-null  object        \n",
            " 9   total_vendas  51290 non-null  float64       \n",
            " 10  quantidade    51290 non-null  int64         \n",
            " 11  desconto      51290 non-null  float64       \n",
            " 12  lucro         51290 non-null  float64       \n",
            " 13  prioridade    51290 non-null  object        \n",
            "dtypes: datetime64[ns](1), float64(3), int64(1), object(9)\n",
            "memory usage: 5.5+ MB\n",
            "None\n",
            "Coluna (coluna) convertida para float.\n",
            "Coluna ' data_pedido' convertida para tipo datetime.\n",
            "\n",
            "Tipos de dados após a conversão:\n",
            "<class 'pandas.core.frame.DataFrame'>\n",
            "RangeIndex: 51290 entries, 0 to 51289\n",
            "Data columns (total 14 columns):\n",
            " #   Column        Non-Null Count  Dtype         \n",
            "---  ------        --------------  -----         \n",
            " 0   id_pedido     51290 non-null  object        \n",
            " 1   data_pedido   51290 non-null  datetime64[ns]\n",
            " 2   id_cliente    51290 non-null  object        \n",
            " 3   segmento      51290 non-null  object        \n",
            " 4   regiao        51290 non-null  object        \n",
            " 5   pais          51290 non-null  object        \n",
            " 6   product_id    51290 non-null  object        \n",
            " 7   categoria     51290 non-null  object        \n",
            " 8   subcategoria  51290 non-null  object        \n",
            " 9   total_vendas  51290 non-null  float64       \n",
            " 10  quantidade    51290 non-null  float64       \n",
            " 11  desconto      51290 non-null  float64       \n",
            " 12  lucro         51290 non-null  float64       \n",
            " 13  prioridade    51290 non-null  object        \n",
            "dtypes: datetime64[ns](1), float64(4), object(9)\n",
            "memory usage: 5.5+ MB\n",
            "None\n"
          ]
        }
      ]
    },
    {
      "cell_type": "code",
      "source": [
        "# 4. Tratar Duplicatas:\n",
        "print(\"\\nVerificando e tratando duplicatas:\")\n",
        "duplicatas = df_limpo.duplicated().sum()\n",
        "if duplicatas > 0:\n",
        "    print(f\"Número de linhas duplicadas encontradas: {duplicatas}\")\n",
        "    df_limpo.drop_duplicates (inplace=True)\n",
        "    print(f\"Duplicatas removidas. Novo número de linhas: {len(df_limpo)}\")\n",
        "else:\n",
        "    print(\"Nenhuma linha duplicada encontrada.\")\n",
        "\n",
        "\n",
        "print(\"\\n\" + \"=\"*50)\n",
        "print(\"Etapa 2: Limpeza e Pré-processamento de Dados CONCLUIDA!\")\n",
        "print(\"=\"*50)\n",
        "\n",
        "# Exiba as primeiras linhas do DataFrame após a limpeza para uma verificação final\n",
        "print(\"\\nPrimeiras 5 linhas do DataFrame após a limpeza:\")\n",
        "print(df_limpo.head())"
      ],
      "metadata": {
        "id": "NeBy8cWZMP4p"
      },
      "execution_count": null,
      "outputs": []
    },
    {
      "cell_type": "markdown",
      "source": [
        "# Etapa 3: Análise Exploratória de Dados (EDA) e Respostas às Perguntas de Negócio"
      ],
      "metadata": {
        "id": "ntGby5iLMUt5"
      }
    },
    {
      "cell_type": "code",
      "source": [
        "print(\"\\n\" + \"=\"*50)\n",
        "print(\"Iniciando Etapa 3: Análise Exploratória de Dados (EDA)\")\n",
        "print(\"=\"*50)\n",
        "\n",
        "# 1. Total de Vendas Acumulado:\n",
        "print(\"\\n--- 1. Total de Vendas Acumulado ---\")\n",
        "if pd.api.types.is_numeric_dtype(df_limpo['total_vendas']):\n",
        "    total_vendas_acumulado = df_limpo['total_vendas'].sum()\n",
        "    print(f\"Total de Vendas Acumulado: R$ {total_vendas_acumulado:,.2f}\")\n",
        "else:\n",
        "    print(\"A coluna 'total_vendas não é numérica. Verifique a Etapa 2.\")\n",
        "\n",
        "# 2. Categorias de Produtos Mais Vendidas:\n",
        "print(\"\\n--- 2. Categorias de Produtos Mais Vendidas ---\")\n",
        "# Agrupe os dados por Categoria e some Total Vendas.\n",
        "vendas_por_categoria = df_limpo.groupby('categoria') ['total_vendas'].sum().sort_values(ascending=False)\n",
        "print(\"Vendas por Categoria (Top 10):\")\n",
        "print (vendas_por_categoria.head (10).apply(lambda x: f\"R$ {x:,.2f}\"))"
      ],
      "metadata": {
        "id": "-Ha9tL8UMWaC"
      },
      "execution_count": null,
      "outputs": []
    },
    {
      "cell_type": "code",
      "source": [
        "# 3. Prioridade de Entrega vs. Vendas por País:\n",
        "print(\"\\n--- 3. Prioridade de Entrega vs. Vendas por País ---\")\n",
        "# Agrupe os dados por País e Prioridade, somando Total Vendas.\n",
        "vendas_por_pais_prioridade = df_limpo.groupby (['pais', 'prioridade']) ['total_vendas'].sum().unstack(fill_value=0)\n",
        "print(\"Vendas por País e Prioridade de Entrega:\")\n",
        "print (vendas_por_pais_prioridade.applymap(lambda x: f\"R$ {x:,.2f}\"))\n",
        "\n",
        "# 4. Impacto dos Descontos nas Subcategorias:\n",
        "print(\"\\n-- 4. Impacto dos Descontos nas Subcategorias ---\")\n",
        "# Agrupe os dados por SubCategoria e calcule a média do Desconto e a soma de Total Vendas.\n",
        "impacto_desconto_subcategoria = df_limpo.groupby('subcategoria').agg(\n",
        "    desconto_medio=('desconto', 'mean'),\n",
        "    total_vendas=('total_vendas', 'sum')\n",
        ").sort_values (by='total_vendas', ascending=False)\n",
        "\n",
        "print(\"Impacto dos Descontos e Vendas por Subcategoria (Top 10):\")\n",
        "impacto_desconto_subcategoria['desconto_medio'] = impacto_desconto_subcategoria['desconto_medio'].apply(lambda x: f\"{x:.2%}\")\n",
        "impacto_desconto_subcategoria['total_vendas'] = impacto_desconto_subcategoria['total_vendas'].apply(lambda x: f\"R$ {x:,.2f}\")\n",
        "print(impacto_desconto_subcategoria.head (10))"
      ],
      "metadata": {
        "id": "M4h634PQMdP-"
      },
      "execution_count": null,
      "outputs": []
    },
    {
      "cell_type": "code",
      "source": [
        "# 5. Países com Maior Ticket Médio:\n",
        "print(\"\\n--- 5. Países com Maior Ticket Médio ---\")\n",
        "# Calcule o ticket médio por país (soma de Total Vendas / soma de Quantidade por país).\n",
        "if pd.api.types.is_numeric_dtype(df_limpo['quantidade']):\n",
        "    ticket_medio_por_pais = df_limpo.groupby('pais').agg(\n",
        "        soma_vendas=('total_vendas', 'sum'),\n",
        "        soma_quantidade=('quantidade', 'sum')\n",
        "    )\n",
        "    ticket_medio_por_pais['ticket_medio'] = ticket_medio_por_pais.apply(\n",
        "        lambda row: row['soma_vendas'] / row['soma_quantidade'] if row['soma_quantidade'] > 0 else 0,\n",
        "        axis=1\n",
        "    )\n",
        "    ticket_medio_por_pais = ticket_medio_por_pais.sort_values (by='ticket_medio', ascending=False)\n",
        "\n",
        "    print(\"Países com Maior Ticket Médio (Top 10):\")\n",
        "    print(ticket_medio_por_pais['ticket_medio'].head (10).apply(lambda x: f\"R$ {x:,.2f}\"))\n",
        "else:\n",
        "    print(\"A coluna 'quantidade não é numérica. Verifique a Etapa 2.\")\n",
        "\n",
        "print(\"\\n\" + \"=\"*50)\n",
        "print(\"Etapa 3: Análise Exploratória de Dados (EDA) CONCLUÍDA!\")\n",
        "print(\"As respostas às perguntas de negócio foram geradas acima.\")\n",
        "print(\"=\"*50)"
      ],
      "metadata": {
        "id": "j7vq4IcXMf4A"
      },
      "execution_count": null,
      "outputs": []
    },
    {
      "cell_type": "markdown",
      "source": [
        "# Etapa 4: Visualização de Dados\n",
        "# Objetivo: Criar gráficos para apresentar os insights de forma clara e visualmente atraente."
      ],
      "metadata": {
        "id": "Pq16DJ35Mj6S"
      }
    },
    {
      "cell_type": "code",
      "source": [
        "print(\"\\n\" + \"=\"*50)\n",
        "print(\"Iniciando Etapa 4: Visualização de Dados\")\n",
        "print(\"=\"*50)\n",
        "\n",
        "# Configurações básicas para os gráficos\n",
        "plt.style.use('seaborn-v0_8-darkgrid') # Estilo de gráfico\n",
        "plt.rcParams['figure.figsize'] = (12, 7) # Tamanho padrão das figuras\n",
        "\n",
        "# 1. Total de Vendas por Categoria:\n",
        "print(\"\\n- 1. Gráfico de Total de Vendas por Categoria ---\")\n",
        "vendas_por_categoria = df_limpo.groupby('categoria') ['total_vendas'].sum().sort_values(ascending=False)\n",
        "\n",
        "plt.figure(figsize=(10, 6))\n",
        "sns.barplot(x=vendas_por_categoria.index, y=vendas_por_categoria.values, palette='viridis')\n",
        "plt.title('Total de Vendas por Categoria', fontsize=16)\n",
        "plt.xlabel('Categoria', fontsize=12)\n",
        "plt.ylabel('Total de Vendas (R$)', fontsize=12)\n",
        "plt.xticks (rotation=45, ha='right') # Rotaciona os rótulos do eixo X para melhor leitura\n",
        "plt.grid(axis='y', linestyle='--', alpha=0.7)\n",
        "plt.tight_layout() # Ajusta o layout para evitar sobreposição\n",
        "plt.show()\n",
        "\n",
        "# Se preferir um gráfico de pizza para mostrar a distribuição:\n",
        "plt.figure(figsize=(9, 9))\n",
        "plt.pie(vendas_por_categoria, labels=vendas_por_categoria.index, autopct='%1.1f%%', startangle=90, colors=sns.color_palette('viridis', len(vendas_por_categoria)))\n",
        "plt.title('Distribuição Percentual de Vendas por Categoria', fontsize=16)\n",
        "plt.axis('equal') # Garante que o gráfico de pizza seja um circulo\n",
        "plt.show()"
      ],
      "metadata": {
        "colab": {
          "base_uri": "https://localhost:8080/",
          "height": 1000
        },
        "id": "PIf9y8uWMnSE",
        "outputId": "1489858d-f779-4ee9-d070-b2af38eec435"
      },
      "execution_count": 9,
      "outputs": [
        {
          "output_type": "stream",
          "name": "stdout",
          "text": [
            "\n",
            "==================================================\n",
            "Iniciando Etapa 4: Visualização de Dados\n",
            "==================================================\n",
            "\n",
            "- 1. Gráfico de Total de Vendas por Categoria ---\n"
          ]
        },
        {
          "output_type": "stream",
          "name": "stderr",
          "text": [
            "<ipython-input-9-1b09cb6ae5fe>:14: FutureWarning: \n",
            "\n",
            "Passing `palette` without assigning `hue` is deprecated and will be removed in v0.14.0. Assign the `x` variable to `hue` and set `legend=False` for the same effect.\n",
            "\n",
            "  sns.barplot(x=vendas_por_categoria.index, y=vendas_por_categoria.values, palette='viridis')\n"
          ]
        },
        {
          "output_type": "display_data",
          "data": {
            "text/plain": [
              "<Figure size 1000x600 with 1 Axes>"
            ],
            "image/png": "[encoded data removed]"
          },
          "metadata": {}
        },
        {
          "output_type": "display_data",
          "data": {
            "text/plain": [
              "<Figure size 900x900 with 1 Axes>"
            ],
            "image/png": "[encoded data removed]"
          },
          "metadata": {}
        }
      ]
    }
  ]
}